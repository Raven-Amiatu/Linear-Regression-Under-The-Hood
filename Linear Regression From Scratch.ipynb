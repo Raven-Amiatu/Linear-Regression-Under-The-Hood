{
 "cells": [
  {
   "cell_type": "markdown",
   "id": "f9ac6986-5192-4b16-b299-5fb65568f3e2",
   "metadata": {},
   "source": [
    "# Linear Regression Under the hood"
   ]
  },
  {
   "cell_type": "markdown",
   "id": "c7f3e2fd-d59f-47d8-8ad9-9b18b87ab54b",
   "metadata": {},
   "source": [
    "## Introduction"
   ]
  },
  {
   "cell_type": "markdown",
   "id": "9333ca42-7863-4420-8d22-948340b22239",
   "metadata": {},
   "source": [
    "This notebook explores Linear Regression from scratch, focusing on implementing the least squares estimation method to fit a regression model. We use the Boston Housing dataset, which records the median house value (medv) for 506 neighborhoods in Boston. The goal is to build a simple regression model to predict medv using the predictor variable lstat: The percentage of households with low socioeconomic status.\n",
    "\n",
    "\n",
    "To achieve this, we implement the linear regression model using numpy and analyze the model's performance using statistical metrics like Residual Sum of Squares (RSS), R², and Residual Standard Error (RSE). Additionally, we will assess whether linear regression is an appropriate fit for this dataset by examining residual plots and performance metrics."
   ]
  },
  {
   "cell_type": "code",
   "execution_count": 177,
   "id": "bab0cdc9-8ab8-4430-ab34-b1b0bf392c21",
   "metadata": {},
   "outputs": [],
   "source": [
    "## Table of contents"
   ]
  },
  {
   "cell_type": "code",
   "execution_count": null,
   "id": "cfebda1e-87ac-43c4-89a1-aba006cabd9e",
   "metadata": {},
   "outputs": [],
   "source": [
    "1. [Import packages](#Import-packages)\n",
    "2. [Import data](#Import-data)\n",
    "3. [Implement Least Squares Estimation](#Implement-Least-Squares-Estimation)\n",
    "4. [Predict y values using estimated coefficients](#Predict-y-values-using-estimated-coefficients)\n",
    "5. [Plot resutls](#Plot-resutls)\n",
    "6. [Creating class for Least Squares Regression for predictions](#Creating-class-for-Least-Squares-Regression-for-predictions)\n",
    "7. [Assessing accuracy of coefficients](#Assessing-accuracy-of-coefficients)\n",
    "8. [Conclusion](#Conclusion)"
   ]
  },
  {
   "cell_type": "markdown",
   "id": "e410f140-142a-4c51-ad3e-cdaabd1675cc",
   "metadata": {},
   "source": [
    "## Import packages"
   ]
  },
  {
   "cell_type": "code",
   "execution_count": 147,
   "id": "f5b9eb06-9b29-4df6-9864-248de1361122",
   "metadata": {},
   "outputs": [],
   "source": [
    "import numpy as np\n",
    "import pandas as pd\n",
    "from matplotlib.pyplot import subplots\n",
    "import statsmodels.api as sm\n",
    "from statsmodels.stats.outliers_influence \\\n",
    "import variance_inflation_factor as VIF\n",
    "from statsmodels.stats.anova import anova_lm\n",
    "from ISLP import load_data\n",
    "from ISLP.models import (ModelSpec as MS,\n",
    "summarize,\n",
    "poly)\n",
    "import matplotlib.pyplot as plt\n",
    "import scipy.stats as stats"
   ]
  },
  {
   "cell_type": "markdown",
   "id": "bd0a77c8-e778-4c2c-aa74-5263ad9e9c8c",
   "metadata": {},
   "source": [
    "## Import data"
   ]
  },
  {
   "cell_type": "code",
   "execution_count": 148,
   "id": "e9954cf5-581d-4c5b-b87a-ffbe35ed72b6",
   "metadata": {},
   "outputs": [
    {
     "data": {
      "text/plain": [
       "Index(['crim', 'zn', 'indus', 'chas', 'nox', 'rm', 'age', 'dis', 'rad', 'tax',\n",
       "       'ptratio', 'lstat', 'medv'],\n",
       "      dtype='object')"
      ]
     },
     "execution_count": 148,
     "metadata": {},
     "output_type": "execute_result"
    }
   ],
   "source": [
    "Boston = load_data(\"Boston\")\n",
    "Boston.columns"
   ]
  },
  {
   "cell_type": "markdown",
   "id": "04d4bb3a-2652-405f-b878-3f3f706a8d0c",
   "metadata": {},
   "source": [
    "## Implement Least Squares Estimation"
   ]
  },
  {
   "cell_type": "markdown",
   "id": "99a111a9-e5a3-47ef-b72e-d6b8c5b36d9b",
   "metadata": {},
   "source": [
    "### Assign target and predictor variables"
   ]
  },
  {
   "cell_type": "code",
   "execution_count": 149,
   "id": "c2ed23ae-ecee-4d4e-a068-45c78b73cb28",
   "metadata": {},
   "outputs": [],
   "source": [
    "y = Boston['medv'].values\n",
    "X = Boston['lstat'].values"
   ]
  },
  {
   "cell_type": "markdown",
   "id": "6a617442-e751-4546-8870-a72ee313d37d",
   "metadata": {},
   "source": [
    "### Calculate x and y means"
   ]
  },
  {
   "cell_type": "code",
   "execution_count": 150,
   "id": "24eb25b4-69d3-4d27-bfaf-b99f71cfecff",
   "metadata": {},
   "outputs": [
    {
     "name": "stdout",
     "output_type": "stream",
     "text": [
      "12.653063241106722\n",
      "22.532806324110677\n"
     ]
    }
   ],
   "source": [
    "x_mean = np.mean(Boston.lstat)\n",
    "print(x_mean)\n",
    "y_mean = np.mean(Boston.medv)\n",
    "print(y_mean)"
   ]
  },
  {
   "cell_type": "markdown",
   "id": "7d57cc97-f89e-47e3-a235-bf74ac06b56d",
   "metadata": {},
   "source": [
    "### Calculate beta coefficients"
   ]
  },
  {
   "cell_type": "markdown",
   "id": "d3e4c75d-3705-4e45-a477-5f8b2966b92e",
   "metadata": {},
   "source": [
    "### Calculate beta_1"
   ]
  },
  {
   "cell_type": "code",
   "execution_count": 151,
   "id": "155ff2cb-0bab-4e5f-a177-7510f7076b5e",
   "metadata": {},
   "outputs": [
    {
     "data": {
      "text/plain": [
       "-0.9500493537579907"
      ]
     },
     "execution_count": 151,
     "metadata": {},
     "output_type": "execute_result"
    }
   ],
   "source": [
    "numerator = np.sum((X - x_mean)*(y - y_mean))\n",
    "denominator = np.sum((X - x_mean)**2)\n",
    "beta_1 = numerator/denominator\n",
    "beta_1"
   ]
  },
  {
   "cell_type": "markdown",
   "id": "6a125791-574a-4233-bd71-59182d5356f6",
   "metadata": {},
   "source": [
    "### Calculate beta_2"
   ]
  },
  {
   "cell_type": "code",
   "execution_count": 152,
   "id": "78951083-034b-4b0a-9624-806024fbf7e5",
   "metadata": {},
   "outputs": [
    {
     "data": {
      "text/plain": [
       "34.5538408793831"
      ]
     },
     "execution_count": 152,
     "metadata": {},
     "output_type": "execute_result"
    }
   ],
   "source": [
    "# beta_0\n",
    "beta_0 = y_mean - (beta_1*x_mean) \n",
    "beta_0"
   ]
  },
  {
   "cell_type": "markdown",
   "id": "30b26dea-3f14-4bb5-adcf-609f05e74156",
   "metadata": {},
   "source": [
    "## Predict y values using estimated coefficients"
   ]
  },
  {
   "cell_type": "code",
   "execution_count": 153,
   "id": "a994df1e-49bb-4336-9ae4-8172accf5162",
   "metadata": {},
   "outputs": [],
   "source": [
    "y_pred = beta_0 + beta_1 * X"
   ]
  },
  {
   "cell_type": "markdown",
   "id": "adea9465-05d5-4406-8952-ba30b1e6b51a",
   "metadata": {},
   "source": [
    "## Plot resutls"
   ]
  },
  {
   "cell_type": "code",
   "execution_count": 154,
   "id": "8650c7da-2b84-4f58-ac92-ab1d228d40d5",
   "metadata": {},
   "outputs": [],
   "source": [
    "pred_df = pd.DataFrame({'lstat' : X, 'y_pred' : y_pred})\n",
    "pred_df.sort_values(by='lstat', inplace = True)"
   ]
  },
  {
   "cell_type": "code",
   "execution_count": 155,
   "id": "9571c2d7-d75d-4ffd-80ab-288013aad5c1",
   "metadata": {},
   "outputs": [
    {
     "data": {
      "image/png": "[encoded data removed]",
      "text/plain": [
       "<Figure size 640x480 with 1 Axes>"
      ]
     },
     "metadata": {},
     "output_type": "display_data"
    }
   ],
   "source": [
    "plt.scatter(X, y, color='blue', label='Actual data')\n",
    "plt.plot(pred_df['lstat'], pred_df['y_pred'], color='red', linewidth=2, label='Regression Line (No Intercept)')\n",
    "plt.xlabel('lstat')\n",
    "plt.ylabel('medv')\n",
    "plt.title('Linear Regression with Forced Zero Intercept')\n",
    "plt.legend()\n",
    "plt.show()"
   ]
  },
  {
   "cell_type": "markdown",
   "id": "d2bb85a8-bb7b-4790-9dbe-eaa08b924a95",
   "metadata": {},
   "source": [
    "Strong negative relationship between the predictor variable lstat and response variable medv."
   ]
  },
  {
   "cell_type": "markdown",
   "id": "35a70eb8-c2be-4315-83d3-d11036b34e53",
   "metadata": {},
   "source": [
    "## Creating class for Least Squares Regression for predictions"
   ]
  },
  {
   "cell_type": "code",
   "execution_count": 156,
   "id": "131ebd85-a9b6-497a-ab46-13c88b85643f",
   "metadata": {},
   "outputs": [],
   "source": [
    "class LeastSquaresRegression:\n",
    "    def __init__(self):\n",
    "        self.beta_0 = None # Intercept\n",
    "        self.beta_0 = None # Slope\n",
    "\n",
    "    def fit(self, X, y):\n",
    "        \"\"\"Compute the least squares estimates for beta_0 and beta_1\"\"\"\n",
    "        x_mean = np.mean(X)\n",
    "        y_mean = np.mean(y)\n",
    "\n",
    "        # Compute beta_1 using the least squares formula\n",
    "        numerator = numerator = np.sum((X - x_mean)*(y - y_mean))\n",
    "        denominator = np.sum((X - x_mean)**2)\n",
    "        self.beta_1 = numerator / denominator\n",
    "\n",
    "        # Compute beta_0\n",
    "        self.beta_0 = y_mean - self.beta_1 * x_mean\n",
    "\n",
    "\n",
    "    def predict(self, X):\n",
    "        \"\"\"Predict y values using the estimated coefficients\"\"\"\n",
    "        return self.beta_0 + self.beta_1 * X"
   ]
  },
  {
   "cell_type": "markdown",
   "id": "e7b84c57-014e-4890-b118-125a262487da",
   "metadata": {},
   "source": [
    "### Train Model"
   ]
  },
  {
   "cell_type": "code",
   "execution_count": 157,
   "id": "015d2409-9311-4127-9e80-772acfcb4865",
   "metadata": {},
   "outputs": [],
   "source": [
    "model_ls = LeastSquaresRegression()\n",
    "model_ls.fit(X, y)"
   ]
  },
  {
   "cell_type": "markdown",
   "id": "1295b292-6a5d-41e2-af88-d2cdee8cd433",
   "metadata": {},
   "source": [
    "### Predicitions"
   ]
  },
  {
   "cell_type": "code",
   "execution_count": 158,
   "id": "aa78b8b7-08d7-4783-b815-70357974dd41",
   "metadata": {},
   "outputs": [],
   "source": [
    "y_pred_ls = model_ls.predict(X)"
   ]
  },
  {
   "cell_type": "markdown",
   "id": "10ecbad8-900e-4278-958c-ce34b3e48117",
   "metadata": {},
   "source": [
    "## Assessing accuracy of coefficients "
   ]
  },
  {
   "cell_type": "code",
   "execution_count": 159,
   "id": "300589f9-6546-46b9-9f11-6bdcb06ebdea",
   "metadata": {},
   "outputs": [
    {
     "data": {
      "text/plain": [
       "19472.38141832644"
      ]
     },
     "execution_count": 159,
     "metadata": {},
     "output_type": "execute_result"
    }
   ],
   "source": [
    "RSS = np.sum((y - beta_0 - beta_1*X)**2) # Residual Sum of Squares\n",
    "RSS "
   ]
  },
  {
   "cell_type": "code",
   "execution_count": 160,
   "id": "5a4e70b3-f6d1-401d-8148-28e62a43f23a",
   "metadata": {},
   "outputs": [
    {
     "data": {
      "text/plain": [
       "19472.38141832644"
      ]
     },
     "execution_count": 160,
     "metadata": {},
     "output_type": "execute_result"
    }
   ],
   "source": [
    "RSS_1 = np.sum((y - y_pred)**2) # Double checking RSS\n",
    "RSS_1"
   ]
  },
  {
   "cell_type": "code",
   "execution_count": 161,
   "id": "e9296373-e57a-4fe1-8e78-46bfe7db171f",
   "metadata": {},
   "outputs": [
    {
     "data": {
      "text/plain": [
       "38.63567741731437"
      ]
     },
     "execution_count": 161,
     "metadata": {},
     "output_type": "execute_result"
    }
   ],
   "source": [
    "n = len(y) # Assigning n for number of data points\n",
    "sigma_squared = (RSS/(n-2)) # Estimated sigma squared \n",
    "sigma_squared"
   ]
  },
  {
   "cell_type": "markdown",
   "id": "e5122b5a-137c-4cf5-94e5-c753ba332110",
   "metadata": {},
   "source": [
    "### SE for beta_1 and beta_0"
   ]
  },
  {
   "cell_type": "code",
   "execution_count": 162,
   "id": "29dc73f6-7321-44e7-baa1-4c9aba278c41",
   "metadata": {},
   "outputs": [
    {
     "data": {
      "text/plain": [
       "0.03873341621263942"
      ]
     },
     "execution_count": 162,
     "metadata": {},
     "output_type": "execute_result"
    }
   ],
   "source": [
    "SE_beta_1 = np.sqrt(sigma_squared / np.sum((X - x_mean)**2))\n",
    "SE_beta_1"
   ]
  },
  {
   "cell_type": "markdown",
   "id": "366e313b-0bc2-45d9-a51b-d4681a8865ce",
   "metadata": {},
   "source": [
    "The standord error of beta_1 is quite small, which is a good indicator that the coefficient is a precise estimate and may provide strong evidence that there is a relationship between X and Y"
   ]
  },
  {
   "cell_type": "code",
   "execution_count": 163,
   "id": "a79e357a-6fc2-4b34-a373-fb5dd3184c81",
   "metadata": {},
   "outputs": [
    {
     "data": {
      "text/plain": [
       "0.5626273549884331"
      ]
     },
     "execution_count": 163,
     "metadata": {},
     "output_type": "execute_result"
    }
   ],
   "source": [
    "SE_beta_0 = SE_beta0 = np.sqrt(sigma_squared * (1/n + (x_mean**2) / np.sum((X - x_mean)**2)))\n",
    "SE_beta_0"
   ]
  },
  {
   "cell_type": "markdown",
   "id": "d2517552-6280-4c62-bdfc-686ac9bd8d0c",
   "metadata": {},
   "source": [
    "The standord error of beta_0 is quite small, which is a good indicator that the coefficient is a precise estimate and may provide strong evidence that there is a relationship between X and Y"
   ]
  },
  {
   "cell_type": "markdown",
   "id": "e0213b70-555b-4ef2-864a-391887c4d7b5",
   "metadata": {},
   "source": [
    "### t-statistic for beta_1 and beta_0"
   ]
  },
  {
   "cell_type": "code",
   "execution_count": 164,
   "id": "805eaa38-0ab0-46ef-a747-fdcee8bfed1a",
   "metadata": {},
   "outputs": [
    {
     "data": {
      "text/plain": [
       "-24.527899851187726"
      ]
     },
     "execution_count": 164,
     "metadata": {},
     "output_type": "execute_result"
    }
   ],
   "source": [
    "t_stat_beta_1 = beta_1 / SE_beta_1\n",
    "t_stat_beta_1"
   ]
  },
  {
   "cell_type": "code",
   "execution_count": 166,
   "id": "e86e3248-c622-4a66-bfa2-690c89d3bc8c",
   "metadata": {},
   "outputs": [
    {
     "data": {
      "text/plain": [
       "61.41514551864171"
      ]
     },
     "execution_count": 166,
     "metadata": {},
     "output_type": "execute_result"
    }
   ],
   "source": [
    "t_stat_beta_0 = beta_0 / SE_beta_0\n",
    "t_stat_beta_0"
   ]
  },
  {
   "cell_type": "markdown",
   "id": "105efbf7-bb81-4214-8f29-3b07345a9486",
   "metadata": {},
   "source": [
    "The absolute t-statistic for both beta_1 and beta_0 suggests that the coefficient is far from zero relative to their standard error, indicating high statistical significance"
   ]
  },
  {
   "cell_type": "markdown",
   "id": "d352805a-bd30-4982-bf87-af1622aee705",
   "metadata": {},
   "source": [
    "### p-value (two-tailed test)"
   ]
  },
  {
   "cell_type": "code",
   "execution_count": 167,
   "id": "c81cee2a-458c-4c54-87f7-888dd917bc97",
   "metadata": {},
   "outputs": [
    {
     "data": {
      "text/plain": [
       "0.0"
      ]
     },
     "execution_count": 167,
     "metadata": {},
     "output_type": "execute_result"
    }
   ],
   "source": [
    "p_value_beta_1 = 2 * (1 - stats.t.cdf(np.abs(t_stat_beta_1), df=n - 2))\n",
    "p_value_beta_1"
   ]
  },
  {
   "cell_type": "code",
   "execution_count": 168,
   "id": "fabda07c-a5dd-41c3-941a-f58e444ed6a0",
   "metadata": {},
   "outputs": [
    {
     "data": {
      "text/plain": [
       "0.0"
      ]
     },
     "execution_count": 168,
     "metadata": {},
     "output_type": "execute_result"
    }
   ],
   "source": [
    "df = n - 2\n",
    "p_value_beta_0 = 2 * (1 - stats.t.cdf(np.abs(t_stat_beta_0), df))\n",
    "p_value_beta_0"
   ]
  },
  {
   "cell_type": "markdown",
   "id": "2a63da2d-f1ff-45b1-8477-3a53263332dc",
   "metadata": {},
   "source": [
    "The p-value is virtually 0, this is strong evidence against the null hypothesis suggesting the coefficient is statistically significant"
   ]
  },
  {
   "cell_type": "markdown",
   "id": "a8063d50-f247-46fb-a60d-3a1e2c523d48",
   "metadata": {},
   "source": [
    "### Confidence intervals"
   ]
  },
  {
   "cell_type": "code",
   "execution_count": 169,
   "id": "ac0e40e2-6fe8-4205-a66b-621e9997c6a5",
   "metadata": {},
   "outputs": [
    {
     "name": "stdout",
     "output_type": "stream",
     "text": [
      "95% Confidence Interval for beta1 (slope): (-1.0261481995207604, -0.873950507995221)\n",
      "95% Confidence Interval for beta0 (intercept): (33.44845704042266, 35.659224718343545)\n"
     ]
    }
   ],
   "source": [
    "alpha = 0.05\n",
    "t_crit = stats.t.ppf(1 - alpha/2, df)\n",
    "\n",
    "CI_beta_1 = (beta_1 - t_crit * SE_beta_1, beta_1 + t_crit * SE_beta_1)\n",
    "CI_beta_0 = (beta_0 - t_crit * SE_beta_0, beta_0 + t_crit * SE_beta_0)\n",
    "\n",
    "print(\"95% Confidence Interval for beta1 (slope):\", CI_beta_1)\n",
    "print(\"95% Confidence Interval for beta0 (intercept):\", CI_beta_0)"
   ]
  },
  {
   "cell_type": "markdown",
   "id": "37e51e12-fc16-4d5a-956a-e4e355d373cc",
   "metadata": {},
   "source": [
    "The confidence interval is quite narrow, which tells that the coefficient is quite accurate. We can conclude that in the absence of the lstat, the median house value is about 33.4 to 35.7, where for each 1 unit increase in lstat, will on average decrease in median house value of between 1.0 - 0.9 units."
   ]
  },
  {
   "cell_type": "markdown",
   "id": "ba834ce5-ab0f-4a6e-8578-f46486a486e3",
   "metadata": {},
   "source": [
    "From these metrics, we can conclude that the estimates of the coefficients are accurate, and that there is a strong relationship between the predictor variable lstat and response variable medv "
   ]
  },
  {
   "cell_type": "markdown",
   "id": "0465ea67-e771-4d13-9301-2c23e5cedac8",
   "metadata": {},
   "source": [
    "## Assessing accuracy of the model"
   ]
  },
  {
   "cell_type": "markdown",
   "id": "4fc42180-f02c-4776-ba75-5fe39d7638d0",
   "metadata": {},
   "source": [
    "### Residual analysis"
   ]
  },
  {
   "cell_type": "code",
   "execution_count": 170,
   "id": "e2e7c740-ede3-4c29-a50a-fe73b84901b7",
   "metadata": {},
   "outputs": [
    {
     "data": {
      "text/plain": [
       "19472.38141832644"
      ]
     },
     "execution_count": 170,
     "metadata": {},
     "output_type": "execute_result"
    }
   ],
   "source": [
    "RSS = np.sum((y - y_pred)**2)\n",
    "RSS"
   ]
  },
  {
   "cell_type": "code",
   "execution_count": 171,
   "id": "9d3cd080-b82a-4011-b8c0-5406f8903075",
   "metadata": {},
   "outputs": [
    {
     "data": {
      "image/png": "[encoded data removed]",
      "text/plain": [
       "<Figure size 640x480 with 1 Axes>"
      ]
     },
     "metadata": {},
     "output_type": "display_data"
    }
   ],
   "source": [
    "import matplotlib.pyplot as plt\n",
    "\n",
    "plt.scatter(y_pred, y - y_pred)\n",
    "plt.axhline(y=0, color='red', linestyle='--')\n",
    "plt.xlabel('Predicted Values')\n",
    "plt.ylabel('Residuals')\n",
    "plt.title('Residual Plot')\n",
    "plt.show()"
   ]
  },
  {
   "cell_type": "markdown",
   "id": "d05c88bb-80ca-4948-96c0-b29a14fccf62",
   "metadata": {},
   "source": [
    "The residual plot seems to be clusstered around the horrizontal axis as well as a weak negative relationship which may suggest a patttern, and therefore, linear regression may not be the best model for this relationship."
   ]
  },
  {
   "cell_type": "markdown",
   "id": "466d2bbe-74ac-421d-805c-73aae0a95c56",
   "metadata": {},
   "source": [
    "### R_squared"
   ]
  },
  {
   "cell_type": "code",
   "execution_count": 172,
   "id": "90265f7c-6b7c-454e-aa06-8647981e538a",
   "metadata": {},
   "outputs": [
    {
     "name": "stdout",
     "output_type": "stream",
     "text": [
      "R²: 0.5441462975864797\n"
     ]
    }
   ],
   "source": [
    "TSS = np.sum((y - np.mean(y))**2)\n",
    "R_squared = 1 - (RSS / TSS)\n",
    "print(\"R²:\", R_squared)"
   ]
  },
  {
   "cell_type": "markdown",
   "id": "2815858c-7359-4add-8b7f-b06e540baf1a",
   "metadata": {},
   "source": [
    "R_squared shows that only just over half of the total variation of the data is accounted for by the model - which is not very high. This may suggest we may need to add more predictor variables or use another model entirely. "
   ]
  },
  {
   "cell_type": "markdown",
   "id": "12341ca5-da10-477e-82d9-b5a4593ca653",
   "metadata": {},
   "source": [
    "### Residual Standard Error"
   ]
  },
  {
   "cell_type": "code",
   "execution_count": 173,
   "id": "d95dcbf5-d924-4be9-b93b-3649ad9ac6a9",
   "metadata": {},
   "outputs": [
    {
     "name": "stdout",
     "output_type": "stream",
     "text": [
      "Residual Standard Error (RSE): 6.221936025804002\n"
     ]
    }
   ],
   "source": [
    "RSE = np.sqrt(RSS / (n - 2 - 1))\n",
    "print(\"Residual Standard Error (RSE):\", RSE)"
   ]
  },
  {
   "cell_type": "code",
   "execution_count": 174,
   "id": "4e02a37e-1fe7-470f-b1aa-8c2276475533",
   "metadata": {},
   "outputs": [
    {
     "data": {
      "text/plain": [
       "0.2761278793377091"
      ]
     },
     "execution_count": 174,
     "metadata": {},
     "output_type": "execute_result"
    }
   ],
   "source": [
    "RSE / np.mean(y)"
   ]
  },
  {
   "cell_type": "markdown",
   "id": "8f5fb70e-c3f4-4718-9fb5-8d98c475b188",
   "metadata": {},
   "source": [
    "The RSE of 6.2 units is quite significant, where the percentage error is about 28% which is quite high. This evidence may also suggset that linear regression may not tbe the best fit, indicating the model does not fill the data well. "
   ]
  },
  {
   "cell_type": "markdown",
   "id": "4bacfa4c-dce0-4be0-a123-9dbcd7dd5a71",
   "metadata": {},
   "source": [
    "## Conclusion"
   ]
  },
  {
   "cell_type": "markdown",
   "id": "ec758433-7999-49c4-86d9-b77e472b12fe",
   "metadata": {},
   "source": [
    "The results of our linear regression analysis suggest that linear regression may not be the best model for predicting median house values in the Boston dataset. The residual plot shows some clustering around the horizontal axis, along with a weak negative trend, indicating that a different modeling approach may be required.\n",
    "\n",
    "Key findings:\n",
    "\n",
    "- R² Score: The model explains just over 50% of the total variation in medv, which is moderate but not ideal.\n",
    "- Residual Standard Error (RSE): The RSE of 6.2 units indicates a 28% percentage error, which is quite high and suggests poor model fit.\n",
    "- Potential Improvements: A higher-dimensional model, including more predictor variables or nonlinear transformations, might improve predictive performance.\n",
    "\n",
    "Overall, while this notebook successfully demonstrates the fundamentals of least squares estimation and the mathematical underpinnings of linear regression, it also highlights the importance of evaluating model fit and considering alternative modeling techniques when needed."
   ]
  }
 ],
 "metadata": {
  "kernelspec": {
   "display_name": "Python 3 (ipykernel)",
   "language": "python",
   "name": "python3"
  },
  "language_info": {
   "codemirror_mode": {
    "name": "ipython",
    "version": 3
   },
   "file_extension": ".py",
   "mimetype": "text/x-python",
   "name": "python",
   "nbconvert_exporter": "python",
   "pygments_lexer": "ipython3",
   "version": "3.12.7"
  }
 },
 "nbformat": 4,
 "nbformat_minor": 5
}
